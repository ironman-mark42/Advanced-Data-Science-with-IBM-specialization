{
    "nbformat_minor": 1, 
    "cells": [
        {
            "execution_count": 1, 
            "cell_type": "code", 
            "metadata": {}, 
            "outputs": [], 
            "source": "# The code was removed by Watson Studio for sharing."
        }, 
        {
            "execution_count": 2, 
            "cell_type": "code", 
            "metadata": {}, 
            "outputs": [], 
            "source": "spark = SparkSession\\\n    .builder\\\n    .appName(\"Cloudant Spark SQL Example in Python using temp tables\")\\\n    .config(\"cloudant.host\",credentials_1['custom_url'].split('@')[1])\\\n    .config(\"cloudant.username\", credentials_1['username'])\\\n    .config(\"cloudant.password\",credentials_1['password'])\\\n    .getOrCreate()"
        }, 
        {
            "execution_count": 3, 
            "cell_type": "code", 
            "metadata": {}, 
            "outputs": [], 
            "source": "df=spark.read.load('shake_classification', \"org.apache.bahir.cloudant\")\ndf.createOrReplaceTempView(\"df\")"
        }, 
        {
            "execution_count": 4, 
            "cell_type": "code", 
            "metadata": {}, 
            "outputs": [
                {
                    "output_type": "stream", 
                    "name": "stdout", 
                    "text": "Collecting systemml\n\u001b[?25l  Downloading https://files.pythonhosted.org/packages/b1/94/62104cb8c526b462cd501c7319926fb81ac9a5668574a0b3407658a506ab/systemml-1.2.0.tar.gz (9.7MB)\n\u001b[K    100% |\u2588\u2588\u2588\u2588\u2588\u2588\u2588\u2588\u2588\u2588\u2588\u2588\u2588\u2588\u2588\u2588\u2588\u2588\u2588\u2588\u2588\u2588\u2588\u2588\u2588\u2588\u2588\u2588\u2588\u2588\u2588\u2588| 9.7MB 4.7MB/s eta 0:00:01   8% |\u2588\u2588\u258a                             | 819kB 38.8MB/s eta 0:00:01\n\u001b[?25hRequirement already satisfied: numpy>=1.8.2 in /usr/local/src/conda3_runtime.v49/home/envs/DSX-Python35-Spark/lib/python3.5/site-packages (from systemml) (1.13.3)\nRequirement already satisfied: scipy>=0.15.1 in /usr/local/src/conda3_runtime.v49/home/envs/DSX-Python35-Spark/lib/python3.5/site-packages (from systemml) (1.0.0)\nRequirement already satisfied: pandas in /usr/local/src/conda3_runtime.v49/home/envs/DSX-Python35-Spark/lib/python3.5/site-packages (from systemml) (0.21.0)\nRequirement already satisfied: scikit-learn in /usr/local/src/conda3_runtime.v49/home/envs/DSX-Python35-Spark/lib/python3.5/site-packages (from systemml) (0.19.1)\nRequirement already satisfied: Pillow>=2.0.0 in /usr/local/src/conda3_runtime.v49/home/envs/DSX-Python35-Spark/lib/python3.5/site-packages (from systemml) (4.2.1)\nRequirement already satisfied: python-dateutil>=2 in /usr/local/src/conda3_runtime.v49/home/envs/DSX-Python35-Spark/lib/python3.5/site-packages (from pandas->systemml) (2.6.1)\nRequirement already satisfied: pytz>=2011k in /usr/local/src/conda3_runtime.v49/home/envs/DSX-Python35-Spark/lib/python3.5/site-packages (from pandas->systemml) (2018.4)\nRequirement already satisfied: olefile in /usr/local/src/conda3_runtime.v49/home/envs/DSX-Python35-Spark/lib/python3.5/site-packages (from Pillow>=2.0.0->systemml) (0.44)\nRequirement already satisfied: six>=1.5 in /usr/local/src/conda3_runtime.v49/home/envs/DSX-Python35-Spark/lib/python3.5/site-packages (from python-dateutil>=2->pandas->systemml) (1.11.0)\nBuilding wheels for collected packages: systemml\n  Running setup.py bdist_wheel for systemml ... \u001b[?25ldone\n\u001b[?25h  Stored in directory: /gpfs/fs01/user/s54f-be0868e612925a-a5a98664e301/.cache/pip/wheels/cf/07/79/b3ed6f12afe06b2ab55d60dcfd62e66240f5d8c6088a518177\nSuccessfully built systemml\n\u001b[31mnotebook 5.0.0 requires nbconvert, which is not installed.\u001b[0m\n\u001b[31mipywidgets 6.0.0 requires widgetsnbextension~=2.0.0, which is not installed.\u001b[0m\n\u001b[31mtensorflow 1.3.0 requires tensorflow-tensorboard<0.2.0,>=0.1.0, which is not installed.\u001b[0m\nInstalling collected packages: systemml\nSuccessfully installed systemml-1.2.0\n"
                }
            ], 
            "source": "!pip install systemml"
        }, 
        {
            "execution_count": 5, 
            "cell_type": "code", 
            "metadata": {}, 
            "outputs": [], 
            "source": "from systemml import MLContext, dml\nml = MLContext(spark)"
        }, 
        {
            "execution_count": 6, 
            "cell_type": "code", 
            "metadata": {}, 
            "outputs": [], 
            "source": "dml_script = '''\nPI = 3.141592654\nN = nrow(signal)\n\nn = seq(0, N-1, 1)\nk = seq(0, N-1, 1)\n\nM = (n %*% t(k))*(2*PI/N)\n\nXa = cos(M) %*% signal\nXb = sin(M) %*% signal\n\nDFT = cbind(Xa, Xb)\n'''"
        }, 
        {
            "execution_count": 7, 
            "cell_type": "code", 
            "metadata": {}, 
            "outputs": [], 
            "source": "from pyspark.sql.functions import monotonically_increasing_id\n\ndef dft_systemml(signal,name):\n    prog = dml(dml_script).input('signal', signal).output('DFT')\n    \n    return (\n\n    #execute the script inside the SystemML engine running on top of Apache Spark\n    ml.execute(prog) \n     \n         #read result from SystemML execution back as SystemML Matrix\n        .get('DFT') \n     \n         #convert SystemML Matrix to ApacheSpark DataFrame \n        .toDF() \n     \n         #rename default column names\n        .selectExpr('C1 as %sa' % (name), 'C2 as %sb' % (name)) \n     \n         #add unique ID per row for later joining\n        .withColumn(\"id\", monotonically_increasing_id())\n    )"
        }, 
        {
            "execution_count": 8, 
            "cell_type": "code", 
            "metadata": {}, 
            "outputs": [], 
            "source": "\nx0 = spark.sql(\"SELECT X from df where class = 0\")\ny0 = spark.sql(\"SELECT Y from df where class = 0\")\nz0 = spark.sql(\"SELECT Z from df where class = 0\")\nx1 = spark.sql(\"SELECT X from df where class = 1\")\ny1 = spark.sql(\"SELECT Y from df where class = 1\")\nz1 = spark.sql(\"SELECT Z from df where class = 1\")"
        }, 
        {
            "execution_count": 9, 
            "cell_type": "code", 
            "metadata": {}, 
            "outputs": [
                {
                    "output_type": "stream", 
                    "name": "stdout", 
                    "text": "[Stage 3:=====>                                                    (1 + 7) / 10]\n[Stage 3:=======================>                                  (4 + 6) / 10]\n[Stage 3:====================================================>     (9 + 1) / 10]\nSystemML Statistics:\nTotal execution time:\t\t3.931 sec.\nNumber of executed Spark inst:\t0.\n\n                                                                                \n\n[Stage 7:>                                                         (0 + 7) / 10]\n[Stage 7:=====>                                                    (1 + 8) / 10]\n[Stage 7:=================>                                        (3 + 7) / 10]\n[Stage 7:=============================>                            (5 + 5) / 10]\n[Stage 7:==============================================>           (8 + 2) / 10]\nSystemML Statistics:\nTotal execution time:\t\t5.816 sec.\nNumber of executed Spark inst:\t0.\n\n                                                                                \n\n[Stage 11:>                                                        (0 + 7) / 10]\n[Stage 11:=====>                                                   (1 + 9) / 10]\n[Stage 11:=================>                                       (3 + 7) / 10]\n[Stage 11:=======================================>                 (7 + 3) / 10]\nSystemML Statistics:\nTotal execution time:\t\t5.758 sec.\nNumber of executed Spark inst:\t0.\n\n                                                                                \n\n[Stage 15:>                                                        (0 + 9) / 10]\n[Stage 15:=====>                                                   (1 + 9) / 10]\n[Stage 15:============================>                            (5 + 5) / 10]\n[Stage 15:==================================>                      (6 + 4) / 10]\nSystemML Statistics:\nTotal execution time:\t\t4.601 sec.\nNumber of executed Spark inst:\t0.\n\n                                                                                \n\n[Stage 19:>                                                        (0 + 7) / 10]\n[Stage 19:>                                                       (0 + 10) / 10]\n[Stage 19:=================>                                       (3 + 7) / 10]\n[Stage 19:======================>                                  (4 + 6) / 10]\n[Stage 19:==================================>                      (6 + 4) / 10]\n[Stage 19:=============================================>           (8 + 2) / 10]\nSystemML Statistics:\nTotal execution time:\t\t6.911 sec.\nNumber of executed Spark inst:\t0.\n\n                                                                                \n\n[Stage 23:>                                                        (0 + 7) / 10]\n[Stage 23:===========>                                             (2 + 8) / 10]\n[Stage 23:=======================================>                 (7 + 3) / 10]\n[Stage 23:=============================================>           (8 + 2) / 10]\nSystemML Statistics:\nTotal execution time:\t\t4.605 sec.\nNumber of executed Spark inst:\t0.\n\n                                                                                \n\n+-----------+--------------------+--------------------+--------------------+--------------------+--------------------+--------------------+-----+\n|         id|                  xa|                  xb|                  ya|                  yb|                  za|                  zb|class|\n+-----------+--------------------+--------------------+--------------------+--------------------+--------------------+--------------------+-----+\n|         26| 0.22952572619747336|-0.16313414201392878| 0.22952572619747336|-0.16313414201392878| 0.22952572619747336|-0.16313414201392878|    0|\n|         29| 0.08358446358658746|-0.01409982255320...| 0.08358446358658746|-0.01409982255320...| 0.08358446358658746|-0.01409982255320...|    0|\n|34359738398|-0.06174457654736091|  0.1796084869266557|-0.06174457654736091|  0.1796084869266557|-0.06174457654736091|  0.1796084869266557|    0|\n|17179869191|   0.350319223144953|  0.2509844290078862|   0.350319223144953|  0.2509844290078862|   0.350319223144953|  0.2509844290078862|    0|\n|51539607590|-0.03130417885565...|-0.10507541207684173|-0.03130417885565...|-0.10507541207684173|-0.03130417885565...|-0.10507541207684173|    0|\n|17179869241|-0.08835342601750244| -0.2503271130639792|-0.08835342601750244| -0.2503271130639792|-0.08835342601750244| -0.2503271130639792|    0|\n|25769803830|-0.12651028547218068|0.012260634703566827|-0.12651028547218068|0.012260634703566827|-0.12651028547218068|0.012260634703566827|    0|\n|25769803831|-0.18173388169569843| -0.2198096489246199|-0.18173388169569843| -0.2198096489246199|-0.18173388169569843| -0.2198096489246199|    0|\n|34359738411|-0.03065736419628...|-0.05070131829083...|-0.03065736419628...|-0.05070131829083...|-0.03065736419628...|-0.05070131829083...|    0|\n| 8589934592| 0.33824274702224544|-0.23953301186211934| 0.33824274702224544|-0.23953301186211934| 0.33824274702224544|-0.23953301186211934|    0|\n|34359738369| -0.2073733168850933|  0.1567727152538743| -0.2073733168850933|  0.1567727152538743| -0.2073733168850933|  0.1567727152538743|    0|\n|42949672976|-0.02569987071855...|  0.1852887111264557|-0.02569987071855...|  0.1852887111264557|-0.02569987071855...|  0.1852887111264557|    0|\n|         19|-0.15905064695993282| -0.2920893663587041|-0.15905064695993282| -0.2920893663587041|-0.15905064695993282| -0.2920893663587041|    0|\n|         54|-0.12215934824895044| 0.23487807912986516|-0.12215934824895044| 0.23487807912986516|-0.12215934824895044| 0.23487807912986516|    0|\n|          0|-0.23525684084975848|-0.06072775701021878|-0.23525684084975848|-0.06072775701021878|-0.23525684084975848|-0.06072775701021878|    0|\n|17179869201|-0.00693422144850259| 0.11897464160596287|-0.00693422144850259| 0.11897464160596287|-0.00693422144850259| 0.11897464160596287|    0|\n|51539607568| 0.09722152044133332| 0.08957780579241885| 0.09722152044133332| 0.08957780579241885| 0.09722152044133332| 0.08957780579241885|    0|\n|25769803790|-0.36397814881345475|0.042653810760448205|-0.36397814881345475|0.042653810760448205|-0.36397814881345475|0.042653810760448205|    0|\n|25769803825|-0.08440350049445286|-0.05993449150641...|-0.08440350049445286|-0.05993449150641...|-0.08440350049445286|-0.05993449150641...|    0|\n| 8589934627| -0.2826272958491767|  0.2013946388247261| -0.2826272958491767|  0.2013946388247261| -0.2826272958491767|  0.2013946388247261|    0|\n+-----------+--------------------+--------------------+--------------------+--------------------+--------------------+--------------------+-----+\nonly showing top 20 rows\n\n"
                }
            ], 
            "source": "from pyspark.sql.functions import lit\n\ndf_class_0 = dft_systemml(x0,'x') \\\n    .join(dft_systemml(y0,'y'), on=['id'], how='inner') \\\n    .join(dft_systemml(z0,'z'), on=['id'], how='inner') \\\n    .withColumn('class', lit(0))\n    \ndf_class_1 = dft_systemml(x1,'x') \\\n    .join(dft_systemml(y1,'y'), on=['id'], how='inner') \\\n    .join(dft_systemml(z1,'z'), on=['id'], how='inner') \\\n    .withColumn('class', lit(1))\n\ndf_dft = df_class_0.union(df_class_1)\n\ndf_dft.show()"
        }, 
        {
            "execution_count": 10, 
            "cell_type": "code", 
            "metadata": {}, 
            "outputs": [], 
            "source": "from pyspark.ml.feature import VectorAssembler\nvectorAssembler = VectorAssembler(\n    inputCols=[\"xa\", \"xb\", \"ya\", \"yb\", \"za\", \"zb\"],\n    outputCol=\"features\")"
        }, 
        {
            "execution_count": 11, 
            "cell_type": "code", 
            "metadata": {}, 
            "outputs": [], 
            "source": "from pyspark.ml.classification import RandomForestClassifier\nclassifier = RandomForestClassifier(labelCol=\"class\", featuresCol=\"features\", numTrees=10)"
        }, 
        {
            "execution_count": 12, 
            "cell_type": "code", 
            "metadata": {}, 
            "outputs": [], 
            "source": "from pyspark.ml import Pipeline\npipeline = Pipeline(stages=[vectorAssembler, classifier])"
        }, 
        {
            "execution_count": 13, 
            "cell_type": "code", 
            "metadata": {}, 
            "outputs": [], 
            "source": "model = pipeline.fit(df_dft)"
        }, 
        {
            "execution_count": 14, 
            "cell_type": "code", 
            "metadata": {}, 
            "outputs": [], 
            "source": "\nprediction = model.transform(df_dft)"
        }, 
        {
            "execution_count": 15, 
            "cell_type": "code", 
            "metadata": {}, 
            "outputs": [
                {
                    "output_type": "stream", 
                    "name": "stdout", 
                    "text": "+-----------+--------------------+--------------------+--------------------+--------------------+--------------------+--------------------+-----+--------------------+-------------+-----------+----------+\n|         id|                  xa|                  xb|                  ya|                  yb|                  za|                  zb|class|            features|rawPrediction|probability|prediction|\n+-----------+--------------------+--------------------+--------------------+--------------------+--------------------+--------------------+-----+--------------------+-------------+-----------+----------+\n|         26| 0.22952572619747336|-0.16313414201392878| 0.22952572619747336|-0.16313414201392878| 0.22952572619747336|-0.16313414201392878|    0|[0.22952572619747...|   [10.0,0.0]|  [1.0,0.0]|       0.0|\n|         29| 0.08358446358658746|-0.01409982255320...| 0.08358446358658746|-0.01409982255320...| 0.08358446358658746|-0.01409982255320...|    0|[0.08358446358658...|   [10.0,0.0]|  [1.0,0.0]|       0.0|\n|34359738398|-0.06174457654736091|  0.1796084869266557|-0.06174457654736091|  0.1796084869266557|-0.06174457654736091|  0.1796084869266557|    0|[-0.0617445765473...|   [10.0,0.0]|  [1.0,0.0]|       0.0|\n|17179869191|   0.350319223144953|  0.2509844290078862|   0.350319223144953|  0.2509844290078862|   0.350319223144953|  0.2509844290078862|    0|[0.35031922314495...|   [10.0,0.0]|  [1.0,0.0]|       0.0|\n|51539607590|-0.03130417885565...|-0.10507541207684173|-0.03130417885565...|-0.10507541207684173|-0.03130417885565...|-0.10507541207684173|    0|[-0.0313041788556...|   [10.0,0.0]|  [1.0,0.0]|       0.0|\n|17179869241|-0.08835342601750244| -0.2503271130639792|-0.08835342601750244| -0.2503271130639792|-0.08835342601750244| -0.2503271130639792|    0|[-0.0883534260175...|   [10.0,0.0]|  [1.0,0.0]|       0.0|\n|25769803830|-0.12651028547218068|0.012260634703566827|-0.12651028547218068|0.012260634703566827|-0.12651028547218068|0.012260634703566827|    0|[-0.1265102854721...|   [10.0,0.0]|  [1.0,0.0]|       0.0|\n|25769803831|-0.18173388169569843| -0.2198096489246199|-0.18173388169569843| -0.2198096489246199|-0.18173388169569843| -0.2198096489246199|    0|[-0.1817338816956...|   [10.0,0.0]|  [1.0,0.0]|       0.0|\n|34359738411|-0.03065736419628...|-0.05070131829083...|-0.03065736419628...|-0.05070131829083...|-0.03065736419628...|-0.05070131829083...|    0|[-0.0306573641962...|   [10.0,0.0]|  [1.0,0.0]|       0.0|\n| 8589934592| 0.33824274702224544|-0.23953301186211934| 0.33824274702224544|-0.23953301186211934| 0.33824274702224544|-0.23953301186211934|    0|[0.33824274702224...|   [10.0,0.0]|  [1.0,0.0]|       0.0|\n|34359738369| -0.2073733168850933|  0.1567727152538743| -0.2073733168850933|  0.1567727152538743| -0.2073733168850933|  0.1567727152538743|    0|[-0.2073733168850...|   [10.0,0.0]|  [1.0,0.0]|       0.0|\n|42949672976|-0.02569987071855...|  0.1852887111264557|-0.02569987071855...|  0.1852887111264557|-0.02569987071855...|  0.1852887111264557|    0|[-0.0256998707185...|   [10.0,0.0]|  [1.0,0.0]|       0.0|\n|         19|-0.15905064695993282| -0.2920893663587041|-0.15905064695993282| -0.2920893663587041|-0.15905064695993282| -0.2920893663587041|    0|[-0.1590506469599...|   [10.0,0.0]|  [1.0,0.0]|       0.0|\n|         54|-0.12215934824895044| 0.23487807912986516|-0.12215934824895044| 0.23487807912986516|-0.12215934824895044| 0.23487807912986516|    0|[-0.1221593482489...|   [10.0,0.0]|  [1.0,0.0]|       0.0|\n|          0|-0.23525684084975848|-0.06072775701021878|-0.23525684084975848|-0.06072775701021878|-0.23525684084975848|-0.06072775701021878|    0|[-0.2352568408497...|   [10.0,0.0]|  [1.0,0.0]|       0.0|\n|17179869201|-0.00693422144850259| 0.11897464160596287|-0.00693422144850259| 0.11897464160596287|-0.00693422144850259| 0.11897464160596287|    0|[-0.0069342214485...|   [10.0,0.0]|  [1.0,0.0]|       0.0|\n|51539607568| 0.09722152044133332| 0.08957780579241885| 0.09722152044133332| 0.08957780579241885| 0.09722152044133332| 0.08957780579241885|    0|[0.09722152044133...|   [10.0,0.0]|  [1.0,0.0]|       0.0|\n|25769803790|-0.36397814881345475|0.042653810760448205|-0.36397814881345475|0.042653810760448205|-0.36397814881345475|0.042653810760448205|    0|[-0.3639781488134...|   [10.0,0.0]|  [1.0,0.0]|       0.0|\n|25769803825|-0.08440350049445286|-0.05993449150641...|-0.08440350049445286|-0.05993449150641...|-0.08440350049445286|-0.05993449150641...|    0|[-0.0844035004944...|   [10.0,0.0]|  [1.0,0.0]|       0.0|\n| 8589934627| -0.2826272958491767|  0.2013946388247261| -0.2826272958491767|  0.2013946388247261| -0.2826272958491767|  0.2013946388247261|    0|[-0.2826272958491...|   [10.0,0.0]|  [1.0,0.0]|       0.0|\n+-----------+--------------------+--------------------+--------------------+--------------------+--------------------+--------------------+-----+--------------------+-------------+-----------+----------+\nonly showing top 20 rows\n\n"
                }
            ], 
            "source": "prediction.show()"
        }, 
        {
            "execution_count": 16, 
            "cell_type": "code", 
            "metadata": {}, 
            "outputs": [
                {
                    "execution_count": 16, 
                    "metadata": {}, 
                    "data": {
                        "text/plain": "1.0"
                    }, 
                    "output_type": "execute_result"
                }
            ], 
            "source": "from pyspark.ml.evaluation import MulticlassClassificationEvaluator\nbinEval = MulticlassClassificationEvaluator().setMetricName(\"accuracy\") .setPredictionCol(\"prediction\").setLabelCol(\"class\")\n    \nbinEval.evaluate(prediction)"
        }, 
        {
            "execution_count": 17, 
            "cell_type": "code", 
            "metadata": {}, 
            "outputs": [], 
            "source": "!rm -Rf a2_m4.json"
        }, 
        {
            "execution_count": 18, 
            "cell_type": "code", 
            "metadata": {}, 
            "outputs": [], 
            "source": "prediction = prediction.repartition(1)\nprediction.write.json('a2_m4.json')"
        }, 
        {
            "execution_count": 19, 
            "cell_type": "code", 
            "metadata": {}, 
            "outputs": [
                {
                    "output_type": "stream", 
                    "name": "stdout", 
                    "text": "--2019-01-12 04:12:43--  https://raw.githubusercontent.com/romeokienzler/developerWorks/master/coursera/ai/rklib.py\nResolving raw.githubusercontent.com (raw.githubusercontent.com)... 151.101.48.133\nConnecting to raw.githubusercontent.com (raw.githubusercontent.com)|151.101.48.133|:443... connected.\nHTTP request sent, awaiting response... 200 OK\nLength: 2289 (2.2K) [text/plain]\nSaving to: \u2018rklib.py\u2019\n\n100%[======================================>] 2,289       --.-K/s   in 0s      \n\n2019-01-12 04:12:43 (16.1 MB/s) - \u2018rklib.py\u2019 saved [2289/2289]\n\n"
                }
            ], 
            "source": "!rm -f rklib.py\n!wget https://raw.githubusercontent.com/romeokienzler/developerWorks/master/coursera/ai/rklib.py"
        }, 
        {
            "execution_count": 20, 
            "cell_type": "code", 
            "metadata": {}, 
            "outputs": [
                {
                    "output_type": "stream", 
                    "name": "stdout", 
                    "text": "  adding: a2_m4.json/ (stored 0%)\r\n  adding: a2_m4.json/_SUCCESS (stored 0%)\r\n  adding: a2_m4.json/.part-00000-6643914c-6224-4f36-af78-4a4fa3f43895.json.crc (stored 0%)\r\n  adding: a2_m4.json/._SUCCESS.crc (stored 0%)\r\n  adding: a2_m4.json/part-00000-6643914c-6224-4f36-af78-4a4fa3f43895.json (deflated 89%)\r\n"
                }
            ], 
            "source": "!zip -r a2_m4.json.zip a2_m4.json"
        }, 
        {
            "execution_count": 21, 
            "cell_type": "code", 
            "metadata": {}, 
            "outputs": [], 
            "source": "!base64 a2_m4.json.zip > a2_m4.json.zip.base64"
        }, 
        {
            "execution_count": 22, 
            "cell_type": "code", 
            "metadata": {}, 
            "outputs": [
                {
                    "output_type": "stream", 
                    "name": "stdout", 
                    "text": "Submission successful, please check on the coursera grader page for the status\n-------------------------\n{\"elements\":[{\"itemId\":\"B8wXV\",\"id\":\"f_F-qCtuEei_fRLwaVDk3g~B8wXV~ybp0qxZSEemB4Q7X5cdx1A\",\"courseId\":\"f_F-qCtuEei_fRLwaVDk3g\"}],\"paging\":{},\"linked\":{}}\n-------------------------\n"
                }
            ], 
            "source": "from rklib import submit\nkey = \"-fBiYHYDEeiR4QqiFhAvkA\"\npart = \"IjtJk\"\nemail = \"ia11287n@pace.edu\"\nsecret = \"VW0hWteCen6wJmu1\"\n\nwith open('a2_m4.json.zip.base64', 'r') as myfile:\n    data=myfile.read()\nsubmit(email, secret, key, part, [part], data)"
        }, 
        {
            "execution_count": null, 
            "cell_type": "code", 
            "metadata": {}, 
            "outputs": [], 
            "source": ""
        }
    ], 
    "metadata": {
        "kernelspec": {
            "display_name": "Python 3.5 with Spark 2.1", 
            "name": "python3-spark21", 
            "language": "python"
        }, 
        "language_info": {
            "mimetype": "text/x-python", 
            "nbconvert_exporter": "python", 
            "version": "3.5.4", 
            "name": "python", 
            "file_extension": ".py", 
            "pygments_lexer": "ipython3", 
            "codemirror_mode": {
                "version": 3, 
                "name": "ipython"
            }
        }
    }, 
    "nbformat": 4
}