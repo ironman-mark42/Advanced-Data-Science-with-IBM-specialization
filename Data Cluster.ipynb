{
    "nbformat_minor": 1, 
    "cells": [
        {
            "execution_count": 2, 
            "cell_type": "code", 
            "metadata": {}, 
            "outputs": [], 
            "source": "# The code was removed by Watson Studio for sharing."
        }, 
        {
            "execution_count": 3, 
            "cell_type": "code", 
            "metadata": {}, 
            "outputs": [], 
            "source": "spark = SparkSession\\\n    .builder\\\n    .appName(\"Cloudant Spark SQL Example in Python using temp tables\")\\\n    .config(\"cloudant.host\",credentials_1['custom_url'].split('@')[1])\\\n    .config(\"cloudant.username\", credentials_1['username'])\\\n    .config(\"cloudant.password\",credentials_1['password'])\\\n    .config(\"jsonstore.rdd.partitions\", 1)\\\n    .getOrCreate()"
        }, 
        {
            "execution_count": 4, 
            "cell_type": "code", 
            "metadata": {}, 
            "outputs": [
                {
                    "output_type": "stream", 
                    "name": "stdout", 
                    "text": "+-----+--------+-----+-----+-----+--------------------+--------------------+\n|CLASS|SENSORID|    X|    Y|    Z|                 _id|                _rev|\n+-----+--------+-----+-----+-----+--------------------+--------------------+\n|    0|asdfghjk|  0.0|  0.0|  0.0|001fd4da2a1ced55e...|1-461daac6b553896...|\n|    0|asdfghjk|-0.02|-0.02|-0.02|001fd4da2a1ced55e...|1-fbc3c86a654a820...|\n|    0|asdfghjk|  0.0|  0.0|  0.0|001fd4da2a1ced55e...|1-461daac6b553896...|\n|    0|asdfghjk|-0.02|-0.02|-0.02|001fd4da2a1ced55e...|1-fbc3c86a654a820...|\n|    0|asdfghjk| 0.02| 0.02| 0.02|001fd4da2a1ced55e...|1-5c4226e5c41f324...|\n|    0|asdfghjk|-0.01|-0.01|-0.01|001fd4da2a1ced55e...|1-c1f52a49af5db18...|\n|    0|asdfghjk|  0.0|  0.0|  0.0|001fd4da2a1ced55e...|1-461daac6b553896...|\n|    0|asdfghjk| 0.01| 0.01| 0.01|001fd4da2a1ced55e...|1-a4b6e8d60269136...|\n|    0|asdfghjk| 0.01| 0.01| 0.01|001fd4da2a1ced55e...|1-a4b6e8d60269136...|\n|    0|asdfghjk|-0.01|-0.01|-0.01|001fd4da2a1ced55e...|1-c1f52a49af5db18...|\n|    0|asdfghjk| 0.01| 0.01| 0.01|001fd4da2a1ced55e...|1-a4b6e8d60269136...|\n|    0|asdfghjk|  0.0|  0.0|  0.0|001fd4da2a1ced55e...|1-461daac6b553896...|\n|    0|asdfghjk|-0.02|-0.02|-0.02|001fd4da2a1ced55e...|1-fbc3c86a654a820...|\n|    0|asdfghjk|-0.02|-0.02|-0.02|001fd4da2a1ced55e...|1-fbc3c86a654a820...|\n|    0|asdfghjk| 0.02| 0.02| 0.02|001fd4da2a1ced55e...|1-5c4226e5c41f324...|\n|    0|asdfghjk|  0.0|  0.0|  0.0|001fd4da2a1ced55e...|1-461daac6b553896...|\n|    0|asdfghjk|  0.0|  0.0|  0.0|001fd4da2a1ced55e...|1-461daac6b553896...|\n|    0|asdfghjk| 0.01| 0.01| 0.01|001fd4da2a1ced55e...|1-a4b6e8d60269136...|\n|    0|asdfghjk| 0.01| 0.01| 0.01|001fd4da2a1ced55e...|1-a4b6e8d60269136...|\n|    0|asdfghjk| 0.01| 0.01| 0.01|001fd4da2a1ced55e...|1-a4b6e8d60269136...|\n+-----+--------+-----+-----+-----+--------------------+--------------------+\nonly showing top 20 rows\n\n"
                }
            ], 
            "source": "\ndf=spark.read.load('shake_classification', \"com.cloudant.spark\")\n\ndf.createOrReplaceTempView(\"df\")\nspark.sql(\"SELECT * from df\").show()"
        }, 
        {
            "execution_count": 5, 
            "cell_type": "code", 
            "metadata": {}, 
            "outputs": [
                {
                    "output_type": "stream", 
                    "name": "stdout", 
                    "text": "+------------+-----+\n|count(class)|class|\n+------------+-----+\n|         436|    0|\n|         600|    1|\n+------------+-----+\n\n"
                }
            ], 
            "source": "spark.sql(\"SELECT count(class), class from df group by class\").show()"
        }, 
        {
            "execution_count": 6, 
            "cell_type": "code", 
            "metadata": {}, 
            "outputs": [], 
            "source": "from pyspark.ml.feature import VectorAssembler\nvectorAssembler = VectorAssembler(inputCols=[\"X\",\"Y\",\"Z\"],\n                                  outputCol=\"features\")"
        }, 
        {
            "execution_count": 7, 
            "cell_type": "code", 
            "metadata": {}, 
            "outputs": [], 
            "source": "from pyspark.ml.clustering import KMeans\n\nclust = KMeans().setK(2).setSeed(1)"
        }, 
        {
            "execution_count": 8, 
            "cell_type": "code", 
            "metadata": {}, 
            "outputs": [], 
            "source": "from pyspark.ml import Pipeline\npipeline = Pipeline(stages=[vectorAssembler, clust])\nmodel = pipeline.fit(df)"
        }, 
        {
            "execution_count": 9, 
            "cell_type": "code", 
            "metadata": {}, 
            "outputs": [
                {
                    "output_type": "stream", 
                    "name": "stdout", 
                    "text": "+-----+--------+-----+-----+-----+--------------------+--------------------+-------------------+----------+\n|CLASS|SENSORID|    X|    Y|    Z|                 _id|                _rev|           features|prediction|\n+-----+--------+-----+-----+-----+--------------------+--------------------+-------------------+----------+\n|    0|asdfghjk|  0.0|  0.0|  0.0|001fd4da2a1ced55e...|1-461daac6b553896...|          (3,[],[])|         1|\n|    0|asdfghjk|-0.02|-0.02|-0.02|001fd4da2a1ced55e...|1-fbc3c86a654a820...|[-0.02,-0.02,-0.02]|         1|\n|    0|asdfghjk|  0.0|  0.0|  0.0|001fd4da2a1ced55e...|1-461daac6b553896...|          (3,[],[])|         1|\n|    0|asdfghjk|-0.02|-0.02|-0.02|001fd4da2a1ced55e...|1-fbc3c86a654a820...|[-0.02,-0.02,-0.02]|         1|\n|    0|asdfghjk| 0.02| 0.02| 0.02|001fd4da2a1ced55e...|1-5c4226e5c41f324...|   [0.02,0.02,0.02]|         1|\n|    0|asdfghjk|-0.01|-0.01|-0.01|001fd4da2a1ced55e...|1-c1f52a49af5db18...|[-0.01,-0.01,-0.01]|         1|\n|    0|asdfghjk|  0.0|  0.0|  0.0|001fd4da2a1ced55e...|1-461daac6b553896...|          (3,[],[])|         1|\n|    0|asdfghjk| 0.01| 0.01| 0.01|001fd4da2a1ced55e...|1-a4b6e8d60269136...|   [0.01,0.01,0.01]|         1|\n|    0|asdfghjk| 0.01| 0.01| 0.01|001fd4da2a1ced55e...|1-a4b6e8d60269136...|   [0.01,0.01,0.01]|         1|\n|    0|asdfghjk|-0.01|-0.01|-0.01|001fd4da2a1ced55e...|1-c1f52a49af5db18...|[-0.01,-0.01,-0.01]|         1|\n|    0|asdfghjk| 0.01| 0.01| 0.01|001fd4da2a1ced55e...|1-a4b6e8d60269136...|   [0.01,0.01,0.01]|         1|\n|    0|asdfghjk|  0.0|  0.0|  0.0|001fd4da2a1ced55e...|1-461daac6b553896...|          (3,[],[])|         1|\n|    0|asdfghjk|-0.02|-0.02|-0.02|001fd4da2a1ced55e...|1-fbc3c86a654a820...|[-0.02,-0.02,-0.02]|         1|\n|    0|asdfghjk|-0.02|-0.02|-0.02|001fd4da2a1ced55e...|1-fbc3c86a654a820...|[-0.02,-0.02,-0.02]|         1|\n|    0|asdfghjk| 0.02| 0.02| 0.02|001fd4da2a1ced55e...|1-5c4226e5c41f324...|   [0.02,0.02,0.02]|         1|\n|    0|asdfghjk|  0.0|  0.0|  0.0|001fd4da2a1ced55e...|1-461daac6b553896...|          (3,[],[])|         1|\n|    0|asdfghjk|  0.0|  0.0|  0.0|001fd4da2a1ced55e...|1-461daac6b553896...|          (3,[],[])|         1|\n|    0|asdfghjk| 0.01| 0.01| 0.01|001fd4da2a1ced55e...|1-a4b6e8d60269136...|   [0.01,0.01,0.01]|         1|\n|    0|asdfghjk| 0.01| 0.01| 0.01|001fd4da2a1ced55e...|1-a4b6e8d60269136...|   [0.01,0.01,0.01]|         1|\n|    0|asdfghjk| 0.01| 0.01| 0.01|001fd4da2a1ced55e...|1-a4b6e8d60269136...|   [0.01,0.01,0.01]|         1|\n+-----+--------+-----+-----+-----+--------------------+--------------------+-------------------+----------+\nonly showing top 20 rows\n\n"
                }
            ], 
            "source": "prediction = model.transform(df)\nprediction.show()"
        }, 
        {
            "execution_count": 10, 
            "cell_type": "code", 
            "metadata": {}, 
            "outputs": [
                {
                    "execution_count": 10, 
                    "metadata": {}, 
                    "data": {
                        "text/plain": "0.6032818532818532"
                    }, 
                    "output_type": "execute_result"
                }
            ], 
            "source": "prediction.createOrReplaceTempView('prediction')\nspark.sql('''\nselect max(correct)/max(total) as accuracy from (\n\n    select sum(correct) as correct, count(correct) as total from (\n        select case when class != prediction then 1 else 0 end as correct from prediction \n    ) \n    \n    union\n    \n    select sum(correct) as correct, count(correct) as total from (\n        select case when class = prediction then 1 else 0 end as correct from prediction \n    ) \n)\n''').rdd.map(lambda row: row.accuracy).collect()[0]"
        }, 
        {
            "execution_count": 11, 
            "cell_type": "code", 
            "metadata": {}, 
            "outputs": [], 
            "source": "!rm -Rf a2_m3.json"
        }, 
        {
            "execution_count": 12, 
            "cell_type": "code", 
            "metadata": {}, 
            "outputs": [
                {
                    "output_type": "stream", 
                    "name": "stdout", 
                    "text": "--2019-01-12 03:54:36--  https://raw.githubusercontent.com/romeokienzler/developerWorks/master/coursera/ai/rklib.py\r\nResolving raw.githubusercontent.com (raw.githubusercontent.com)... 151.101.48.133\r\nConnecting to raw.githubusercontent.com (raw.githubusercontent.com)|151.101.48.133|:443... connected.\r\nHTTP request sent, awaiting response... 200 OK\r\nLength: 2289 (2.2K) [text/plain]\r\nSaving to: \u2018rklib.py\u2019\r\n\r\n100%[======================================>] 2,289       --.-K/s   in 0s      \r\n\r\n2019-01-12 03:54:36 (21.1 MB/s) - \u2018rklib.py\u2019 saved [2289/2289]\r\n\r\n"
                }
            ], 
            "source": "!rm -f rklib.py\n!wget https://raw.githubusercontent.com/romeokienzler/developerWorks/master/coursera/ai/rklib.py"
        }, 
        {
            "execution_count": 13, 
            "cell_type": "code", 
            "metadata": {}, 
            "outputs": [], 
            "source": "prediction= prediction.repartition(1)\nprediction.write.json('a2_m3.json')"
        }, 
        {
            "execution_count": 14, 
            "cell_type": "code", 
            "metadata": {}, 
            "outputs": [
                {
                    "output_type": "stream", 
                    "name": "stdout", 
                    "text": "  adding: a2_m3.json/ (stored 0%)\r\n  adding: a2_m3.json/part-00000-42110e1c-5d7a-4e6f-82f2-94f2646374b7.json (deflated 89%)\r\n  adding: a2_m3.json/_SUCCESS (stored 0%)\r\n  adding: a2_m3.json/._SUCCESS.crc (stored 0%)\r\n  adding: a2_m3.json/.part-00000-42110e1c-5d7a-4e6f-82f2-94f2646374b7.json.crc (stored 0%)\r\n"
                }
            ], 
            "source": "!zip -r a2_m3.json.zip a2_m3.json"
        }, 
        {
            "execution_count": 15, 
            "cell_type": "code", 
            "metadata": {}, 
            "outputs": [], 
            "source": "!base64 a2_m3.json.zip > a2_m3.json.zip.base64"
        }, 
        {
            "execution_count": 16, 
            "cell_type": "code", 
            "metadata": {}, 
            "outputs": [
                {
                    "output_type": "stream", 
                    "name": "stdout", 
                    "text": "Submission successful, please check on the coursera grader page for the status\n-------------------------\n{\"elements\":[{\"itemId\":\"Cu6KW\",\"id\":\"f_F-qCtuEei_fRLwaVDk3g~Cu6KW~R40tJBZQEemrdBIbNUekVA\",\"courseId\":\"f_F-qCtuEei_fRLwaVDk3g\"}],\"paging\":{},\"linked\":{}}\n-------------------------\n"
                }
            ], 
            "source": "from rklib import submit\nkey = \"pPfm62VXEeiJOBL0dhxPkA\"\npart = \"EOTMs\"\nemail = \"ia11287n@pace.edu\"\nsecret = \"x7nb1Htm6v4kOumN\"\n\nwith open('a2_m3.json.zip.base64', 'r') as myfile:\n    data=myfile.read()\nsubmit(email, secret, key, part, [part], data)"
        }, 
        {
            "execution_count": null, 
            "cell_type": "code", 
            "metadata": {}, 
            "outputs": [], 
            "source": ""
        }
    ], 
    "metadata": {
        "kernelspec": {
            "display_name": "Python 3.5 with Spark 2.1", 
            "name": "python3-spark21", 
            "language": "python"
        }, 
        "language_info": {
            "mimetype": "text/x-python", 
            "nbconvert_exporter": "python", 
            "version": "3.5.4", 
            "name": "python", 
            "file_extension": ".py", 
            "pygments_lexer": "ipython3", 
            "codemirror_mode": {
                "version": 3, 
                "name": "ipython"
            }
        }
    }, 
    "nbformat": 4
}