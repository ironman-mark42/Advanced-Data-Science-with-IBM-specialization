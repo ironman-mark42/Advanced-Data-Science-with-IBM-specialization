{
    "nbformat_minor": 1, 
    "cells": [
        {
            "execution_count": 1, 
            "cell_type": "code", 
            "metadata": {}, 
            "outputs": [], 
            "source": "# The code was removed by Watson Studio for sharing."
        }, 
        {
            "execution_count": 2, 
            "cell_type": "code", 
            "metadata": {}, 
            "outputs": [], 
            "source": "spark = SparkSession\\\n    .builder\\\n    .appName(\"Cloudant Spark SQL Example in Python using temp tables\")\\\n    .config(\"cloudant.host\",credentials_1['custom_url'].split('@')[1])\\\n    .config(\"cloudant.username\", credentials_1['username'])\\\n    .config(\"cloudant.password\",credentials_1['password'])\\\n    .config(\"jsonstore.rdd.partitions\", 1)\\\n    .getOrCreate()"
        }, 
        {
            "execution_count": 3, 
            "cell_type": "code", 
            "metadata": {}, 
            "outputs": [
                {
                    "output_type": "stream", 
                    "name": "stdout", 
                    "text": "+-----+--------+-----+-----+-----+--------------------+--------------------+\n|CLASS|SENSORID|    X|    Y|    Z|                 _id|                _rev|\n+-----+--------+-----+-----+-----+--------------------+--------------------+\n|    0|asdfghjk|  0.0|  0.0|  0.0|0b56492212099bea9...|1-461daac6b553896...|\n|    0|asdfghjk|  0.0|  0.0|  0.0|0b56492212099bea9...|1-461daac6b553896...|\n|    0|asdfghjk|  0.0|  0.0|  0.0|0b56492212099bea9...|1-461daac6b553896...|\n|    0|asdfghjk|  0.0|  0.0|  0.0|0b56492212099bea9...|1-461daac6b553896...|\n|    0|asdfghjk|  0.0|  0.0|  0.0|0b56492212099bea9...|1-461daac6b553896...|\n|    0|asdfghjk|  0.0|  0.0|  0.0|0b56492212099bea9...|1-461daac6b553896...|\n|    0|asdfghjk|  0.0|  0.0|  0.0|0b56492212099bea9...|1-461daac6b553896...|\n|    0|asdfghjk|  0.0|  0.0|  0.0|0b56492212099bea9...|1-461daac6b553896...|\n|    0|asdfghjk|  0.0|  0.0|  0.0|0b56492212099bea9...|1-461daac6b553896...|\n|    0|asdfghjk|  0.0|  0.0|  0.0|0b56492212099bea9...|1-461daac6b553896...|\n|    0|asdfghjk| -0.7| -0.7| -0.7|0b56492212099bea9...|1-348eb2b8acc2b0d...|\n|    0|asdfghjk|-2.18|-2.18|-2.18|0b56492212099bea9...|1-072290b1129b936...|\n|    0|asdfghjk|-0.75|-0.75|-0.75|0b56492212099bea9...|1-a0370f911ea402c...|\n|    0|asdfghjk|-1.37|-1.37|-1.37|0b56492212099bea9...|1-02341080bc9077e...|\n|    0|asdfghjk|-0.02|-0.02|-0.02|0b56492212099bea9...|1-fbc3c86a654a820...|\n|    0|asdfghjk| 0.01| 0.01| 0.01|0b56492212099bea9...|1-a4b6e8d60269136...|\n|    0|asdfghjk|  0.0|  0.0|  0.0|0b56492212099bea9...|1-461daac6b553896...|\n|    0|asdfghjk|-0.01|-0.01|-0.01|0b56492212099bea9...|1-c1f52a49af5db18...|\n|    0|asdfghjk|  0.0|  0.0|  0.0|0b56492212099bea9...|1-461daac6b553896...|\n|    0|asdfghjk|  0.0|  0.0|  0.0|0b56492212099bea9...|1-461daac6b553896...|\n+-----+--------+-----+-----+-----+--------------------+--------------------+\nonly showing top 20 rows\n\n"
                }
            ], 
            "source": "df=spark.read.load('shake', \"com.cloudant.spark\")\n\ndf.createOrReplaceTempView(\"df\")\nspark.sql(\"SELECT * from df\").show()"
        }, 
        {
            "execution_count": 4, 
            "cell_type": "code", 
            "metadata": {}, 
            "outputs": [], 
            "source": "!rm -Rf a2_m1.parquet"
        }, 
        {
            "execution_count": 5, 
            "cell_type": "code", 
            "metadata": {}, 
            "outputs": [], 
            "source": "df = df.repartition(1)\ndf.write.json('a2_m1.json')"
        }, 
        {
            "execution_count": 6, 
            "cell_type": "code", 
            "metadata": {}, 
            "outputs": [
                {
                    "output_type": "stream", 
                    "name": "stdout", 
                    "text": "--2019-01-11 19:19:33--  https://raw.githubusercontent.com/romeokienzler/developerWorks/master/coursera/ai/rklib.py\nResolving raw.githubusercontent.com (raw.githubusercontent.com)... 151.101.48.133\nConnecting to raw.githubusercontent.com (raw.githubusercontent.com)|151.101.48.133|:443... connected.\nHTTP request sent, awaiting response... 200 OK\nLength: 2289 (2.2K) [text/plain]\nSaving to: \u2018rklib.py\u2019\n\n100%[======================================>] 2,289       --.-K/s   in 0s      \n\n2019-01-11 19:19:33 (18.8 MB/s) - \u2018rklib.py\u2019 saved [2289/2289]\n\n"
                }
            ], 
            "source": "!rm -f rklib.py\n!wget https://raw.githubusercontent.com/romeokienzler/developerWorks/master/coursera/ai/rklib.py"
        }, 
        {
            "execution_count": 7, 
            "cell_type": "code", 
            "metadata": {}, 
            "outputs": [
                {
                    "output_type": "stream", 
                    "name": "stdout", 
                    "text": "  adding: a2_m1.json/ (stored 0%)\r\n  adding: a2_m1.json/_SUCCESS (stored 0%)\r\n  adding: a2_m1.json/._SUCCESS.crc (stored 0%)\r\n  adding: a2_m1.json/.part-00000-a6e19c73-13d0-46db-a7dc-ce4a9c47c9cb.json.crc (stored 0%)\r\n  adding: a2_m1.json/part-00000-a6e19c73-13d0-46db-a7dc-ce4a9c47c9cb.json (deflated 90%)\r\n"
                }
            ], 
            "source": "!zip -r a2_m1.json.zip a2_m1.json"
        }, 
        {
            "execution_count": 8, 
            "cell_type": "code", 
            "metadata": {}, 
            "outputs": [], 
            "source": "!base64 a2_m1.json.zip > a2_m1.json.zip.base64"
        }, 
        {
            "execution_count": 9, 
            "cell_type": "code", 
            "metadata": {}, 
            "outputs": [
                {
                    "output_type": "stream", 
                    "name": "stdout", 
                    "text": "Submission successful, please check on the coursera grader page for the status\n-------------------------\n{\"elements\":[{\"itemId\":\"O8C69\",\"id\":\"f_F-qCtuEei_fRLwaVDk3g~O8C69~YMKBwBYIEemYWBLwY5cAqg\",\"courseId\":\"f_F-qCtuEei_fRLwaVDk3g\"}],\"paging\":{},\"linked\":{}}\n-------------------------\n"
                }
            ], 
            "source": "from rklib import submit\nkey = \"1injH2F0EeiLlRJ3eJKoXA\"\npart = \"wNLDt\"\nemail = \"ia11287n@pace.edu\"\nsecret = \"pltNSkrRHtg8NlAo\"\n\nwith open('a2_m1.json.zip.base64', 'r') as myfile:\n    data=myfile.read()\nsubmit(email, secret, key, part, [part], data)"
        }, 
        {
            "execution_count": null, 
            "cell_type": "code", 
            "metadata": {}, 
            "outputs": [], 
            "source": ""
        }
    ], 
    "metadata": {
        "kernelspec": {
            "display_name": "Python 3.5 with Spark 2.1", 
            "name": "python3-spark21", 
            "language": "python"
        }, 
        "language_info": {
            "mimetype": "text/x-python", 
            "nbconvert_exporter": "python", 
            "version": "3.5.4", 
            "name": "python", 
            "file_extension": ".py", 
            "pygments_lexer": "ipython3", 
            "codemirror_mode": {
                "version": 3, 
                "name": "ipython"
            }
        }
    }, 
    "nbformat": 4
}