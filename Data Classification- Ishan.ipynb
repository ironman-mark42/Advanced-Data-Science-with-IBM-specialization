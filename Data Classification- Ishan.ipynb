{
    "nbformat_minor": 1, 
    "cells": [
        {
            "execution_count": 38, 
            "cell_type": "code", 
            "metadata": {}, 
            "outputs": [], 
            "source": "# The code was removed by Watson Studio for sharing."
        }, 
        {
            "execution_count": 43, 
            "cell_type": "code", 
            "metadata": {}, 
            "outputs": [], 
            "source": "spark = SparkSession\\\n    .builder\\\n    .appName(\"Cloudant Spark SQL Example in Python using temp tables\")\\\n    .config(\"cloudant.host\",credentials_1['custom_url'].split('@')[1])\\\n    .config(\"cloudant.username\", credentials_1['username'])\\\n    .config(\"cloudant.password\",credentials_1['password'])\\\n    .config(\"jsonstore.rdd.partitions\", 1)\\\n    .getOrCreate()"
        }, 
        {
            "execution_count": 44, 
            "cell_type": "code", 
            "metadata": {}, 
            "outputs": [
                {
                    "output_type": "stream", 
                    "name": "stdout", 
                    "text": "+-----+--------+-----+-----+-----+--------------------+--------------------+\n|CLASS|SENSORID|    X|    Y|    Z|                 _id|                _rev|\n+-----+--------+-----+-----+-----+--------------------+--------------------+\n|    0|asdfghjk| 0.04| 0.04| 0.04|001fd4da2a1ced55e...|1-004320ad84dbdd4...|\n|    0|asdfghjk|-0.04|-0.04|-0.04|001fd4da2a1ced55e...|1-3dfd90aea317f83...|\n|    0|asdfghjk|  0.1|  0.1|  0.1|001fd4da2a1ced55e...|1-9ce895790043823...|\n|    0|asdfghjk|  0.0|  0.0|  0.0|001fd4da2a1ced55e...|1-461daac6b553896...|\n|    0|asdfghjk| 0.04| 0.04| 0.04|001fd4da2a1ced55e...|1-004320ad84dbdd4...|\n|    0|asdfghjk|  0.0|  0.0|  0.0|001fd4da2a1ced55e...|1-461daac6b553896...|\n|    0|asdfghjk| 0.01| 0.01| 0.01|001fd4da2a1ced55e...|1-a4b6e8d60269136...|\n|    0|asdfghjk| 0.15| 0.15| 0.15|001fd4da2a1ced55e...|1-af099c11156019c...|\n|    0|asdfghjk| 0.74| 0.74| 0.74|001fd4da2a1ced55e...|1-dd43f14a1a4bd9f...|\n|    0|asdfghjk| -0.1| -0.1| -0.1|001fd4da2a1ced55e...|1-f1a6d8ac5db7570...|\n|    0|asdfghjk| 0.02| 0.02| 0.02|001fd4da2a1ced55e...|1-5c4226e5c41f324...|\n|    0|asdfghjk|-0.08|-0.08|-0.08|001fd4da2a1ced55e...|1-7fc2c19b75d4fad...|\n|    0|asdfghjk| 0.04| 0.04| 0.04|001fd4da2a1ced55e...|1-004320ad84dbdd4...|\n|    0|asdfghjk|-0.21|-0.21|-0.21|001fd4da2a1ced55e...|1-20898b179a29d5d...|\n|    0|asdfghjk|-0.25|-0.25|-0.25|001fd4da2a1ced55e...|1-3f74c48c8e0ceaf...|\n|    0|asdfghjk| 0.06| 0.06| 0.06|001fd4da2a1ced55e...|1-b0e0ea0b0976f0b...|\n|    0|asdfghjk| 0.02| 0.02| 0.02|001fd4da2a1ced55e...|1-5c4226e5c41f324...|\n|    0|asdfghjk| 0.02| 0.02| 0.02|001fd4da2a1ced55e...|1-5c4226e5c41f324...|\n|    0|asdfghjk|-0.02|-0.02|-0.02|001fd4da2a1ced55e...|1-fbc3c86a654a820...|\n|    0|asdfghjk| 0.03| 0.03| 0.03|001fd4da2a1ced55e...|1-d27dd8d1b532651...|\n+-----+--------+-----+-----+-----+--------------------+--------------------+\nonly showing top 20 rows\n\n"
                }
            ], 
            "source": "df=spark.read.load('shake_classification', \"com.cloudant.spark\")\n\ndf.createOrReplaceTempView(\"df\")\nspark.sql(\"SELECT * from df\").show()"
        }, 
        {
            "execution_count": 49, 
            "cell_type": "code", 
            "metadata": {}, 
            "outputs": [], 
            "source": "from pyspark.ml.feature import VectorAssembler\nvectorAssembler = VectorAssembler(inputCols = ['X','Y','Z'], outputCol = 'features')"
        }, 
        {
            "execution_count": 50, 
            "cell_type": "code", 
            "metadata": {}, 
            "outputs": [], 
            "source": "from pyspark.ml.classification import LogisticRegression\n\nclassifier = LogisticRegression(labelCol = 'CLASS',maxIter=10, regParam=0.3, elasticNetParam=0.8)"
        }, 
        {
            "execution_count": 51, 
            "cell_type": "code", 
            "metadata": {}, 
            "outputs": [], 
            "source": "from pyspark.ml import Pipeline\npipeline = Pipeline(stages=[vectorAssembler, classifier])"
        }, 
        {
            "execution_count": 53, 
            "cell_type": "code", 
            "metadata": {}, 
            "outputs": [], 
            "source": "model = pipeline.fit(df)"
        }, 
        {
            "execution_count": 54, 
            "cell_type": "code", 
            "metadata": {}, 
            "outputs": [], 
            "source": "\nprediction = model.transform(df)"
        }, 
        {
            "execution_count": 55, 
            "cell_type": "code", 
            "metadata": {}, 
            "outputs": [
                {
                    "output_type": "stream", 
                    "name": "stdout", 
                    "text": "+-----+--------+-----+-----+-----+--------------------+--------------------+-------------------+--------------------+--------------------+----------+\n|CLASS|SENSORID|    X|    Y|    Z|                 _id|                _rev|           features|       rawPrediction|         probability|prediction|\n+-----+--------+-----+-----+-----+--------------------+--------------------+-------------------+--------------------+--------------------+----------+\n|    0|asdfghjk| 0.04| 0.04| 0.04|001fd4da2a1ced55e...|1-004320ad84dbdd4...|   [0.04,0.04,0.04]|[-0.6734577544034...|[0.33772302463891...|       1.0|\n|    0|asdfghjk|-0.04|-0.04|-0.04|001fd4da2a1ced55e...|1-3dfd90aea317f83...|[-0.04,-0.04,-0.04]|[-0.6734577544034...|[0.33772302463891...|       1.0|\n|    0|asdfghjk|  0.1|  0.1|  0.1|001fd4da2a1ced55e...|1-9ce895790043823...|      [0.1,0.1,0.1]|[-0.6734577544034...|[0.33772302463891...|       1.0|\n|    0|asdfghjk|  0.0|  0.0|  0.0|001fd4da2a1ced55e...|1-461daac6b553896...|          (3,[],[])|[-0.6734577544034...|[0.33772302463891...|       1.0|\n|    0|asdfghjk| 0.04| 0.04| 0.04|001fd4da2a1ced55e...|1-004320ad84dbdd4...|   [0.04,0.04,0.04]|[-0.6734577544034...|[0.33772302463891...|       1.0|\n|    0|asdfghjk|  0.0|  0.0|  0.0|001fd4da2a1ced55e...|1-461daac6b553896...|          (3,[],[])|[-0.6734577544034...|[0.33772302463891...|       1.0|\n|    0|asdfghjk| 0.01| 0.01| 0.01|001fd4da2a1ced55e...|1-a4b6e8d60269136...|   [0.01,0.01,0.01]|[-0.6734577544034...|[0.33772302463891...|       1.0|\n|    0|asdfghjk| 0.15| 0.15| 0.15|001fd4da2a1ced55e...|1-af099c11156019c...|   [0.15,0.15,0.15]|[-0.6734577544034...|[0.33772302463891...|       1.0|\n|    0|asdfghjk| 0.74| 0.74| 0.74|001fd4da2a1ced55e...|1-dd43f14a1a4bd9f...|   [0.74,0.74,0.74]|[-0.6734577544034...|[0.33772302463891...|       1.0|\n|    0|asdfghjk| -0.1| -0.1| -0.1|001fd4da2a1ced55e...|1-f1a6d8ac5db7570...|   [-0.1,-0.1,-0.1]|[-0.6734577544034...|[0.33772302463891...|       1.0|\n|    0|asdfghjk| 0.02| 0.02| 0.02|001fd4da2a1ced55e...|1-5c4226e5c41f324...|   [0.02,0.02,0.02]|[-0.6734577544034...|[0.33772302463891...|       1.0|\n|    0|asdfghjk|-0.08|-0.08|-0.08|001fd4da2a1ced55e...|1-7fc2c19b75d4fad...|[-0.08,-0.08,-0.08]|[-0.6734577544034...|[0.33772302463891...|       1.0|\n|    0|asdfghjk| 0.04| 0.04| 0.04|001fd4da2a1ced55e...|1-004320ad84dbdd4...|   [0.04,0.04,0.04]|[-0.6734577544034...|[0.33772302463891...|       1.0|\n|    0|asdfghjk|-0.21|-0.21|-0.21|001fd4da2a1ced55e...|1-20898b179a29d5d...|[-0.21,-0.21,-0.21]|[-0.6734577544034...|[0.33772302463891...|       1.0|\n|    0|asdfghjk|-0.25|-0.25|-0.25|001fd4da2a1ced55e...|1-3f74c48c8e0ceaf...|[-0.25,-0.25,-0.25]|[-0.6734577544034...|[0.33772302463891...|       1.0|\n|    0|asdfghjk| 0.06| 0.06| 0.06|001fd4da2a1ced55e...|1-b0e0ea0b0976f0b...|   [0.06,0.06,0.06]|[-0.6734577544034...|[0.33772302463891...|       1.0|\n|    0|asdfghjk| 0.02| 0.02| 0.02|001fd4da2a1ced55e...|1-5c4226e5c41f324...|   [0.02,0.02,0.02]|[-0.6734577544034...|[0.33772302463891...|       1.0|\n|    0|asdfghjk| 0.02| 0.02| 0.02|001fd4da2a1ced55e...|1-5c4226e5c41f324...|   [0.02,0.02,0.02]|[-0.6734577544034...|[0.33772302463891...|       1.0|\n|    0|asdfghjk|-0.02|-0.02|-0.02|001fd4da2a1ced55e...|1-fbc3c86a654a820...|[-0.02,-0.02,-0.02]|[-0.6734577544034...|[0.33772302463891...|       1.0|\n|    0|asdfghjk| 0.03| 0.03| 0.03|001fd4da2a1ced55e...|1-d27dd8d1b532651...|   [0.03,0.03,0.03]|[-0.6734577544034...|[0.33772302463891...|       1.0|\n+-----+--------+-----+-----+-----+--------------------+--------------------+-------------------+--------------------+--------------------+----------+\nonly showing top 20 rows\n\n"
                }
            ], 
            "source": "prediction.show()"
        }, 
        {
            "execution_count": 57, 
            "cell_type": "code", 
            "metadata": {}, 
            "outputs": [
                {
                    "execution_count": 57, 
                    "metadata": {}, 
                    "data": {
                        "text/plain": "0.6622769753610875"
                    }, 
                    "output_type": "execute_result"
                }
            ], 
            "source": "from pyspark.ml.evaluation import MulticlassClassificationEvaluator\nbinEval = MulticlassClassificationEvaluator().setMetricName(\"accuracy\") .setPredictionCol(\"prediction\").setLabelCol(\"CLASS\")\n    \nbinEval.evaluate(prediction)"
        }, 
        {
            "execution_count": 59, 
            "cell_type": "code", 
            "metadata": {}, 
            "outputs": [], 
            "source": "\n!rm -Rf a2_m2.json"
        }, 
        {
            "execution_count": 60, 
            "cell_type": "code", 
            "metadata": {}, 
            "outputs": [], 
            "source": "prediction = prediction.repartition(1)\nprediction.write.json('a2_m2.json')"
        }, 
        {
            "execution_count": 61, 
            "cell_type": "code", 
            "metadata": {}, 
            "outputs": [
                {
                    "output_type": "stream", 
                    "name": "stdout", 
                    "text": "--2019-01-11 23:45:11--  https://raw.githubusercontent.com/romeokienzler/developerWorks/master/coursera/ai/rklib.py\nResolving raw.githubusercontent.com (raw.githubusercontent.com)... 151.101.48.133\nConnecting to raw.githubusercontent.com (raw.githubusercontent.com)|151.101.48.133|:443... connected.\nHTTP request sent, awaiting response... 200 OK\nLength: 2289 (2.2K) [text/plain]\nSaving to: \u2018rklib.py\u2019\n\n100%[======================================>] 2,289       --.-K/s   in 0s      \n\n2019-01-11 23:45:11 (20.2 MB/s) - \u2018rklib.py\u2019 saved [2289/2289]\n\n"
                }
            ], 
            "source": "!rm -f rklib.py\n!wget https://raw.githubusercontent.com/romeokienzler/developerWorks/master/coursera/ai/rklib.py"
        }, 
        {
            "execution_count": 62, 
            "cell_type": "code", 
            "metadata": {}, 
            "outputs": [
                {
                    "output_type": "stream", 
                    "name": "stdout", 
                    "text": "  adding: a2_m2.json/ (stored 0%)\r\n  adding: a2_m2.json/part-00000-ed42c71f-b636-496f-99cf-e5ff7158025b.json (deflated 91%)\r\n  adding: a2_m2.json/_SUCCESS (stored 0%)\r\n  adding: a2_m2.json/._SUCCESS.crc (stored 0%)\r\n  adding: a2_m2.json/.part-00000-ed42c71f-b636-496f-99cf-e5ff7158025b.json.crc (stored 0%)\r\n"
                }
            ], 
            "source": "!zip -r a2_m2.json.zip a2_m2.json"
        }, 
        {
            "execution_count": 63, 
            "cell_type": "code", 
            "metadata": {}, 
            "outputs": [], 
            "source": "!base64 a2_m2.json.zip > a2_m2.json.zip.base64"
        }, 
        {
            "execution_count": 64, 
            "cell_type": "code", 
            "metadata": {}, 
            "outputs": [
                {
                    "output_type": "stream", 
                    "name": "stdout", 
                    "text": "Submission successful, please check on the coursera grader page for the status\n-------------------------\n{\"elements\":[{\"itemId\":\"LTL4F\",\"id\":\"f_F-qCtuEei_fRLwaVDk3g~LTL4F~fwy4MhYtEemPLArb-44eHA\",\"courseId\":\"f_F-qCtuEei_fRLwaVDk3g\"}],\"paging\":{},\"linked\":{}}\n-------------------------\n"
                }
            ], 
            "source": "from rklib import submit\nkey = \"J3sDL2J8EeiaXhILFWw2-g\"\npart = \"G4P6f\"\nemail = 'ia11287n@pace.edu'\nsecret = 'qQWiYlKFqmlIGTrs'\n\nwith open('a2_m2.json.zip.base64', 'r') as myfile:\n    data=myfile.read()\nsubmit(email, secret, key, part, [part], data)"
        }, 
        {
            "execution_count": null, 
            "cell_type": "code", 
            "metadata": {}, 
            "outputs": [], 
            "source": ""
        }
    ], 
    "metadata": {
        "kernelspec": {
            "display_name": "Python 3.5 with Spark 2.1", 
            "name": "python3-spark21", 
            "language": "python"
        }, 
        "language_info": {
            "mimetype": "text/x-python", 
            "nbconvert_exporter": "python", 
            "version": "3.5.4", 
            "name": "python", 
            "file_extension": ".py", 
            "pygments_lexer": "ipython3", 
            "codemirror_mode": {
                "version": 3, 
                "name": "ipython"
            }
        }
    }, 
    "nbformat": 4
}